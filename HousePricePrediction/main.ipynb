{
 "cells": [
  {
   "cell_type": "code",
   "execution_count": 1,
   "id": "47f0054c-5a25-4070-be91-4c59f4ac8f3b",
   "metadata": {},
   "outputs": [],
   "source": [
    "import pandas as pd\n",
    "import torch\n",
    "import torch.nn as nn\n",
    "import torch.nn.functional as F"
   ]
  },
  {
   "cell_type": "code",
   "execution_count": 2,
   "id": "f9146490-af57-45fb-85a9-8b560db1e5d2",
   "metadata": {},
   "outputs": [
    {
     "data": {
      "text/html": [
       "<div>\n",
       "<style scoped>\n",
       "    .dataframe tbody tr th:only-of-type {\n",
       "        vertical-align: middle;\n",
       "    }\n",
       "\n",
       "    .dataframe tbody tr th {\n",
       "        vertical-align: top;\n",
       "    }\n",
       "\n",
       "    .dataframe thead th {\n",
       "        text-align: right;\n",
       "    }\n",
       "</style>\n",
       "<table border=\"1\" class=\"dataframe\">\n",
       "  <thead>\n",
       "    <tr style=\"text-align: right;\">\n",
       "      <th></th>\n",
       "      <th>crim</th>\n",
       "      <th>zn</th>\n",
       "      <th>indus</th>\n",
       "      <th>chas</th>\n",
       "      <th>nox</th>\n",
       "      <th>rm</th>\n",
       "      <th>age</th>\n",
       "      <th>dis</th>\n",
       "      <th>rad</th>\n",
       "      <th>tax</th>\n",
       "      <th>ptratio</th>\n",
       "      <th>b</th>\n",
       "      <th>lstat</th>\n",
       "      <th>medv</th>\n",
       "    </tr>\n",
       "  </thead>\n",
       "  <tbody>\n",
       "    <tr>\n",
       "      <th>0</th>\n",
       "      <td>0.00632</td>\n",
       "      <td>18.0</td>\n",
       "      <td>2.31</td>\n",
       "      <td>0</td>\n",
       "      <td>0.538</td>\n",
       "      <td>6.575</td>\n",
       "      <td>65.2</td>\n",
       "      <td>4.0900</td>\n",
       "      <td>1</td>\n",
       "      <td>296</td>\n",
       "      <td>15.3</td>\n",
       "      <td>396.90</td>\n",
       "      <td>4.98</td>\n",
       "      <td>24.0</td>\n",
       "    </tr>\n",
       "    <tr>\n",
       "      <th>1</th>\n",
       "      <td>0.02731</td>\n",
       "      <td>0.0</td>\n",
       "      <td>7.07</td>\n",
       "      <td>0</td>\n",
       "      <td>0.469</td>\n",
       "      <td>6.421</td>\n",
       "      <td>78.9</td>\n",
       "      <td>4.9671</td>\n",
       "      <td>2</td>\n",
       "      <td>242</td>\n",
       "      <td>17.8</td>\n",
       "      <td>396.90</td>\n",
       "      <td>9.14</td>\n",
       "      <td>21.6</td>\n",
       "    </tr>\n",
       "    <tr>\n",
       "      <th>2</th>\n",
       "      <td>0.02729</td>\n",
       "      <td>0.0</td>\n",
       "      <td>7.07</td>\n",
       "      <td>0</td>\n",
       "      <td>0.469</td>\n",
       "      <td>7.185</td>\n",
       "      <td>61.1</td>\n",
       "      <td>4.9671</td>\n",
       "      <td>2</td>\n",
       "      <td>242</td>\n",
       "      <td>17.8</td>\n",
       "      <td>392.83</td>\n",
       "      <td>4.03</td>\n",
       "      <td>34.7</td>\n",
       "    </tr>\n",
       "    <tr>\n",
       "      <th>3</th>\n",
       "      <td>0.03237</td>\n",
       "      <td>0.0</td>\n",
       "      <td>2.18</td>\n",
       "      <td>0</td>\n",
       "      <td>0.458</td>\n",
       "      <td>6.998</td>\n",
       "      <td>45.8</td>\n",
       "      <td>6.0622</td>\n",
       "      <td>3</td>\n",
       "      <td>222</td>\n",
       "      <td>18.7</td>\n",
       "      <td>394.63</td>\n",
       "      <td>2.94</td>\n",
       "      <td>33.4</td>\n",
       "    </tr>\n",
       "    <tr>\n",
       "      <th>4</th>\n",
       "      <td>0.06905</td>\n",
       "      <td>0.0</td>\n",
       "      <td>2.18</td>\n",
       "      <td>0</td>\n",
       "      <td>0.458</td>\n",
       "      <td>7.147</td>\n",
       "      <td>54.2</td>\n",
       "      <td>6.0622</td>\n",
       "      <td>3</td>\n",
       "      <td>222</td>\n",
       "      <td>18.7</td>\n",
       "      <td>396.90</td>\n",
       "      <td>5.33</td>\n",
       "      <td>36.2</td>\n",
       "    </tr>\n",
       "    <tr>\n",
       "      <th>...</th>\n",
       "      <td>...</td>\n",
       "      <td>...</td>\n",
       "      <td>...</td>\n",
       "      <td>...</td>\n",
       "      <td>...</td>\n",
       "      <td>...</td>\n",
       "      <td>...</td>\n",
       "      <td>...</td>\n",
       "      <td>...</td>\n",
       "      <td>...</td>\n",
       "      <td>...</td>\n",
       "      <td>...</td>\n",
       "      <td>...</td>\n",
       "      <td>...</td>\n",
       "    </tr>\n",
       "    <tr>\n",
       "      <th>501</th>\n",
       "      <td>0.06263</td>\n",
       "      <td>0.0</td>\n",
       "      <td>11.93</td>\n",
       "      <td>0</td>\n",
       "      <td>0.573</td>\n",
       "      <td>6.593</td>\n",
       "      <td>69.1</td>\n",
       "      <td>2.4786</td>\n",
       "      <td>1</td>\n",
       "      <td>273</td>\n",
       "      <td>21.0</td>\n",
       "      <td>391.99</td>\n",
       "      <td>9.67</td>\n",
       "      <td>22.4</td>\n",
       "    </tr>\n",
       "    <tr>\n",
       "      <th>502</th>\n",
       "      <td>0.04527</td>\n",
       "      <td>0.0</td>\n",
       "      <td>11.93</td>\n",
       "      <td>0</td>\n",
       "      <td>0.573</td>\n",
       "      <td>6.120</td>\n",
       "      <td>76.7</td>\n",
       "      <td>2.2875</td>\n",
       "      <td>1</td>\n",
       "      <td>273</td>\n",
       "      <td>21.0</td>\n",
       "      <td>396.90</td>\n",
       "      <td>9.08</td>\n",
       "      <td>20.6</td>\n",
       "    </tr>\n",
       "    <tr>\n",
       "      <th>503</th>\n",
       "      <td>0.06076</td>\n",
       "      <td>0.0</td>\n",
       "      <td>11.93</td>\n",
       "      <td>0</td>\n",
       "      <td>0.573</td>\n",
       "      <td>6.976</td>\n",
       "      <td>91.0</td>\n",
       "      <td>2.1675</td>\n",
       "      <td>1</td>\n",
       "      <td>273</td>\n",
       "      <td>21.0</td>\n",
       "      <td>396.90</td>\n",
       "      <td>5.64</td>\n",
       "      <td>23.9</td>\n",
       "    </tr>\n",
       "    <tr>\n",
       "      <th>504</th>\n",
       "      <td>0.10959</td>\n",
       "      <td>0.0</td>\n",
       "      <td>11.93</td>\n",
       "      <td>0</td>\n",
       "      <td>0.573</td>\n",
       "      <td>6.794</td>\n",
       "      <td>89.3</td>\n",
       "      <td>2.3889</td>\n",
       "      <td>1</td>\n",
       "      <td>273</td>\n",
       "      <td>21.0</td>\n",
       "      <td>393.45</td>\n",
       "      <td>6.48</td>\n",
       "      <td>22.0</td>\n",
       "    </tr>\n",
       "    <tr>\n",
       "      <th>505</th>\n",
       "      <td>0.04741</td>\n",
       "      <td>0.0</td>\n",
       "      <td>11.93</td>\n",
       "      <td>0</td>\n",
       "      <td>0.573</td>\n",
       "      <td>6.030</td>\n",
       "      <td>80.8</td>\n",
       "      <td>2.5050</td>\n",
       "      <td>1</td>\n",
       "      <td>273</td>\n",
       "      <td>21.0</td>\n",
       "      <td>396.90</td>\n",
       "      <td>7.88</td>\n",
       "      <td>11.9</td>\n",
       "    </tr>\n",
       "  </tbody>\n",
       "</table>\n",
       "<p>506 rows × 14 columns</p>\n",
       "</div>"
      ],
      "text/plain": [
       "        crim    zn  indus  chas    nox     rm   age     dis  rad  tax  \\\n",
       "0    0.00632  18.0   2.31     0  0.538  6.575  65.2  4.0900    1  296   \n",
       "1    0.02731   0.0   7.07     0  0.469  6.421  78.9  4.9671    2  242   \n",
       "2    0.02729   0.0   7.07     0  0.469  7.185  61.1  4.9671    2  242   \n",
       "3    0.03237   0.0   2.18     0  0.458  6.998  45.8  6.0622    3  222   \n",
       "4    0.06905   0.0   2.18     0  0.458  7.147  54.2  6.0622    3  222   \n",
       "..       ...   ...    ...   ...    ...    ...   ...     ...  ...  ...   \n",
       "501  0.06263   0.0  11.93     0  0.573  6.593  69.1  2.4786    1  273   \n",
       "502  0.04527   0.0  11.93     0  0.573  6.120  76.7  2.2875    1  273   \n",
       "503  0.06076   0.0  11.93     0  0.573  6.976  91.0  2.1675    1  273   \n",
       "504  0.10959   0.0  11.93     0  0.573  6.794  89.3  2.3889    1  273   \n",
       "505  0.04741   0.0  11.93     0  0.573  6.030  80.8  2.5050    1  273   \n",
       "\n",
       "     ptratio       b  lstat  medv  \n",
       "0       15.3  396.90   4.98  24.0  \n",
       "1       17.8  396.90   9.14  21.6  \n",
       "2       17.8  392.83   4.03  34.7  \n",
       "3       18.7  394.63   2.94  33.4  \n",
       "4       18.7  396.90   5.33  36.2  \n",
       "..       ...     ...    ...   ...  \n",
       "501     21.0  391.99   9.67  22.4  \n",
       "502     21.0  396.90   9.08  20.6  \n",
       "503     21.0  396.90   5.64  23.9  \n",
       "504     21.0  393.45   6.48  22.0  \n",
       "505     21.0  396.90   7.88  11.9  \n",
       "\n",
       "[506 rows x 14 columns]"
      ]
     },
     "execution_count": 2,
     "metadata": {},
     "output_type": "execute_result"
    }
   ],
   "source": [
    "df = pd.read_csv(\"BostonHousing.csv\")\n",
    "df"
   ]
  },
  {
   "cell_type": "code",
   "execution_count": 3,
   "id": "4c0704c8-33bb-4a5e-a8c2-09f50349e883",
   "metadata": {},
   "outputs": [],
   "source": [
    "x = df.drop('medv', axis=1)\n",
    "y = df['medv']"
   ]
  },
  {
   "cell_type": "code",
   "execution_count": 4,
   "id": "e33bfa36",
   "metadata": {},
   "outputs": [
    {
     "data": {
      "text/plain": [
       "0      24.0\n",
       "1      21.6\n",
       "2      34.7\n",
       "3      33.4\n",
       "4      36.2\n",
       "       ... \n",
       "501    22.4\n",
       "502    20.6\n",
       "503    23.9\n",
       "504    22.0\n",
       "505    11.9\n",
       "Name: medv, Length: 506, dtype: float64"
      ]
     },
     "execution_count": 4,
     "metadata": {},
     "output_type": "execute_result"
    }
   ],
   "source": [
    "y"
   ]
  },
  {
   "cell_type": "code",
   "execution_count": 5,
   "id": "7d9c09b7",
   "metadata": {},
   "outputs": [],
   "source": [
    "x = x.values"
   ]
  },
  {
   "cell_type": "code",
   "execution_count": 6,
   "id": "1a647b99",
   "metadata": {},
   "outputs": [],
   "source": [
    "y = y.values"
   ]
  },
  {
   "cell_type": "code",
   "execution_count": 7,
   "id": "abefe07d",
   "metadata": {},
   "outputs": [
    {
     "data": {
      "text/plain": [
       "array([24. , 21.6, 34.7, 33.4, 36.2, 28.7, 22.9, 27.1, 16.5, 18.9, 15. ,\n",
       "       18.9, 21.7, 20.4, 18.2, 19.9, 23.1, 17.5, 20.2, 18.2, 13.6, 19.6,\n",
       "       15.2, 14.5, 15.6, 13.9, 16.6, 14.8, 18.4, 21. , 12.7, 14.5, 13.2,\n",
       "       13.1, 13.5, 18.9, 20. , 21. , 24.7, 30.8, 34.9, 26.6, 25.3, 24.7,\n",
       "       21.2, 19.3, 20. , 16.6, 14.4, 19.4, 19.7, 20.5, 25. , 23.4, 18.9,\n",
       "       35.4, 24.7, 31.6, 23.3, 19.6, 18.7, 16. , 22.2, 25. , 33. , 23.5,\n",
       "       19.4, 22. , 17.4, 20.9, 24.2, 21.7, 22.8, 23.4, 24.1, 21.4, 20. ,\n",
       "       20.8, 21.2, 20.3, 28. , 23.9, 24.8, 22.9, 23.9, 26.6, 22.5, 22.2,\n",
       "       23.6, 28.7, 22.6, 22. , 22.9, 25. , 20.6, 28.4, 21.4, 38.7, 43.8,\n",
       "       33.2, 27.5, 26.5, 18.6, 19.3, 20.1, 19.5, 19.5, 20.4, 19.8, 19.4,\n",
       "       21.7, 22.8, 18.8, 18.7, 18.5, 18.3, 21.2, 19.2, 20.4, 19.3, 22. ,\n",
       "       20.3, 20.5, 17.3, 18.8, 21.4, 15.7, 16.2, 18. , 14.3, 19.2, 19.6,\n",
       "       23. , 18.4, 15.6, 18.1, 17.4, 17.1, 13.3, 17.8, 14. , 14.4, 13.4,\n",
       "       15.6, 11.8, 13.8, 15.6, 14.6, 17.8, 15.4, 21.5, 19.6, 15.3, 19.4,\n",
       "       17. , 15.6, 13.1, 41.3, 24.3, 23.3, 27. , 50. , 50. , 50. , 22.7,\n",
       "       25. , 50. , 23.8, 23.8, 22.3, 17.4, 19.1, 23.1, 23.6, 22.6, 29.4,\n",
       "       23.2, 24.6, 29.9, 37.2, 39.8, 36.2, 37.9, 32.5, 26.4, 29.6, 50. ,\n",
       "       32. , 29.8, 34.9, 37. , 30.5, 36.4, 31.1, 29.1, 50. , 33.3, 30.3,\n",
       "       34.6, 34.9, 32.9, 24.1, 42.3, 48.5, 50. , 22.6, 24.4, 22.5, 24.4,\n",
       "       20. , 21.7, 19.3, 22.4, 28.1, 23.7, 25. , 23.3, 28.7, 21.5, 23. ,\n",
       "       26.7, 21.7, 27.5, 30.1, 44.8, 50. , 37.6, 31.6, 46.7, 31.5, 24.3,\n",
       "       31.7, 41.7, 48.3, 29. , 24. , 25.1, 31.5, 23.7, 23.3, 22. , 20.1,\n",
       "       22.2, 23.7, 17.6, 18.5, 24.3, 20.5, 24.5, 26.2, 24.4, 24.8, 29.6,\n",
       "       42.8, 21.9, 20.9, 44. , 50. , 36. , 30.1, 33.8, 43.1, 48.8, 31. ,\n",
       "       36.5, 22.8, 30.7, 50. , 43.5, 20.7, 21.1, 25.2, 24.4, 35.2, 32.4,\n",
       "       32. , 33.2, 33.1, 29.1, 35.1, 45.4, 35.4, 46. , 50. , 32.2, 22. ,\n",
       "       20.1, 23.2, 22.3, 24.8, 28.5, 37.3, 27.9, 23.9, 21.7, 28.6, 27.1,\n",
       "       20.3, 22.5, 29. , 24.8, 22. , 26.4, 33.1, 36.1, 28.4, 33.4, 28.2,\n",
       "       22.8, 20.3, 16.1, 22.1, 19.4, 21.6, 23.8, 16.2, 17.8, 19.8, 23.1,\n",
       "       21. , 23.8, 23.1, 20.4, 18.5, 25. , 24.6, 23. , 22.2, 19.3, 22.6,\n",
       "       19.8, 17.1, 19.4, 22.2, 20.7, 21.1, 19.5, 18.5, 20.6, 19. , 18.7,\n",
       "       32.7, 16.5, 23.9, 31.2, 17.5, 17.2, 23.1, 24.5, 26.6, 22.9, 24.1,\n",
       "       18.6, 30.1, 18.2, 20.6, 17.8, 21.7, 22.7, 22.6, 25. , 19.9, 20.8,\n",
       "       16.8, 21.9, 27.5, 21.9, 23.1, 50. , 50. , 50. , 50. , 50. , 13.8,\n",
       "       13.8, 15. , 13.9, 13.3, 13.1, 10.2, 10.4, 10.9, 11.3, 12.3,  8.8,\n",
       "        7.2, 10.5,  7.4, 10.2, 11.5, 15.1, 23.2,  9.7, 13.8, 12.7, 13.1,\n",
       "       12.5,  8.5,  5. ,  6.3,  5.6,  7.2, 12.1,  8.3,  8.5,  5. , 11.9,\n",
       "       27.9, 17.2, 27.5, 15. , 17.2, 17.9, 16.3,  7. ,  7.2,  7.5, 10.4,\n",
       "        8.8,  8.4, 16.7, 14.2, 20.8, 13.4, 11.7,  8.3, 10.2, 10.9, 11. ,\n",
       "        9.5, 14.5, 14.1, 16.1, 14.3, 11.7, 13.4,  9.6,  8.7,  8.4, 12.8,\n",
       "       10.5, 17.1, 18.4, 15.4, 10.8, 11.8, 14.9, 12.6, 14.1, 13. , 13.4,\n",
       "       15.2, 16.1, 17.8, 14.9, 14.1, 12.7, 13.5, 14.9, 20. , 16.4, 17.7,\n",
       "       19.5, 20.2, 21.4, 19.9, 19. , 19.1, 19.1, 20.1, 19.9, 19.6, 23.2,\n",
       "       29.8, 13.8, 13.3, 16.7, 12. , 14.6, 21.4, 23. , 23.7, 25. , 21.8,\n",
       "       20.6, 21.2, 19.1, 20.6, 15.2,  7. ,  8.1, 13.6, 20.1, 21.8, 24.5,\n",
       "       23.1, 19.7, 18.3, 21.2, 17.5, 16.8, 22.4, 20.6, 23.9, 22. , 11.9])"
      ]
     },
     "execution_count": 7,
     "metadata": {},
     "output_type": "execute_result"
    }
   ],
   "source": [
    "y"
   ]
  },
  {
   "cell_type": "code",
   "execution_count": 8,
   "id": "abadea0b",
   "metadata": {},
   "outputs": [
    {
     "data": {
      "text/plain": [
       "array([[6.3200e-03, 1.8000e+01, 2.3100e+00, ..., 1.5300e+01, 3.9690e+02,\n",
       "        4.9800e+00],\n",
       "       [2.7310e-02, 0.0000e+00, 7.0700e+00, ..., 1.7800e+01, 3.9690e+02,\n",
       "        9.1400e+00],\n",
       "       [2.7290e-02, 0.0000e+00, 7.0700e+00, ..., 1.7800e+01, 3.9283e+02,\n",
       "        4.0300e+00],\n",
       "       ...,\n",
       "       [6.0760e-02, 0.0000e+00, 1.1930e+01, ..., 2.1000e+01, 3.9690e+02,\n",
       "        5.6400e+00],\n",
       "       [1.0959e-01, 0.0000e+00, 1.1930e+01, ..., 2.1000e+01, 3.9345e+02,\n",
       "        6.4800e+00],\n",
       "       [4.7410e-02, 0.0000e+00, 1.1930e+01, ..., 2.1000e+01, 3.9690e+02,\n",
       "        7.8800e+00]])"
      ]
     },
     "execution_count": 8,
     "metadata": {},
     "output_type": "execute_result"
    }
   ],
   "source": [
    "x"
   ]
  },
  {
   "cell_type": "code",
   "execution_count": 9,
   "id": "9ec7fa08",
   "metadata": {},
   "outputs": [
    {
     "data": {
      "text/plain": [
       "(506, 13)"
      ]
     },
     "execution_count": 9,
     "metadata": {},
     "output_type": "execute_result"
    }
   ],
   "source": [
    "x.shape"
   ]
  },
  {
   "cell_type": "code",
   "execution_count": 10,
   "id": "e1c1ea95",
   "metadata": {},
   "outputs": [],
   "source": [
    "x_train = x[0:405, :]\n",
    "x_test = x[406::, :]"
   ]
  },
  {
   "cell_type": "code",
   "execution_count": 11,
   "id": "dbda1fda",
   "metadata": {},
   "outputs": [
    {
     "data": {
      "text/plain": [
       "((405, 13), (100, 13))"
      ]
     },
     "execution_count": 11,
     "metadata": {},
     "output_type": "execute_result"
    }
   ],
   "source": [
    "x_train.shape, x_test.shape"
   ]
  },
  {
   "cell_type": "code",
   "execution_count": 12,
   "id": "2dda2bd9",
   "metadata": {},
   "outputs": [
    {
     "data": {
      "text/plain": [
       "(506,)"
      ]
     },
     "execution_count": 12,
     "metadata": {},
     "output_type": "execute_result"
    }
   ],
   "source": [
    "y.shape"
   ]
  },
  {
   "cell_type": "code",
   "execution_count": 13,
   "id": "d3713b12",
   "metadata": {},
   "outputs": [],
   "source": [
    "y_train = y[0:405]\n",
    "y_test = y[406::]"
   ]
  },
  {
   "cell_type": "code",
   "execution_count": 14,
   "id": "dd716b26",
   "metadata": {},
   "outputs": [
    {
     "data": {
      "text/plain": [
       "((405,), (100,))"
      ]
     },
     "execution_count": 14,
     "metadata": {},
     "output_type": "execute_result"
    }
   ],
   "source": [
    "y_train.shape, y_test.shape"
   ]
  },
  {
   "cell_type": "code",
   "execution_count": 15,
   "id": "3d63ad9a",
   "metadata": {},
   "outputs": [],
   "source": [
    "x_test = torch.FloatTensor(x_test)\n",
    "x_train = torch.FloatTensor(x_train)\n",
    "y_test = torch.FloatTensor(y_test)\n",
    "y_train = torch.FloatTensor(y_train)"
   ]
  },
  {
   "cell_type": "code",
   "execution_count": 16,
   "id": "4b2105a9",
   "metadata": {},
   "outputs": [],
   "source": [
    "class LinearRegressionModel(nn.Module):\n",
    "    def __init__(self, in_features = 13, out_features=1):\n",
    "        super().__init__()\n",
    "        self.func = nn.Linear(in_features, out_features)\n",
    "\n",
    "    def forward(self, x):\n",
    "        out = self.func(x)\n",
    "\n",
    "        return out"
   ]
  },
  {
   "cell_type": "code",
   "execution_count": 17,
   "id": "52b80626",
   "metadata": {},
   "outputs": [],
   "source": [
    "model = LinearRegressionModel()"
   ]
  },
  {
   "cell_type": "code",
   "execution_count": 18,
   "id": "bc6eea4d",
   "metadata": {},
   "outputs": [
    {
     "data": {
      "text/plain": [
       "<generator object Module.parameters at 0x00000172DE9E9540>"
      ]
     },
     "execution_count": 18,
     "metadata": {},
     "output_type": "execute_result"
    }
   ],
   "source": [
    "model.parameters()"
   ]
  },
  {
   "cell_type": "code",
   "execution_count": 19,
   "id": "41e82eaa",
   "metadata": {},
   "outputs": [],
   "source": [
    "loss_func = nn.MSELoss()\n",
    "optimizer = torch.optim.Adam(model.parameters(), lr=0.01)"
   ]
  },
  {
   "cell_type": "code",
   "execution_count": 29,
   "id": "6d00bd06",
   "metadata": {},
   "outputs": [
    {
     "name": "stdout",
     "output_type": "stream",
     "text": [
      "Epoch: 99, loss: 86.84964752197266\n",
      "Epoch: 199, loss: 86.78194427490234\n",
      "Epoch: 299, loss: 86.75963592529297\n",
      "Epoch: 399, loss: 86.7789306640625\n",
      "Epoch: 499, loss: 86.7209243774414\n",
      "Epoch: 599, loss: 86.70280456542969\n",
      "Epoch: 699, loss: 86.6929702758789\n",
      "Epoch: 799, loss: 86.67047119140625\n",
      "Epoch: 899, loss: 86.65474700927734\n",
      "Epoch: 999, loss: 86.64137268066406\n",
      "Epoch: 1099, loss: 86.62674713134766\n",
      "Epoch: 1199, loss: 86.61312866210938\n",
      "Epoch: 1299, loss: 86.73530578613281\n",
      "Epoch: 1399, loss: 86.58794403076172\n",
      "Epoch: 1499, loss: 86.57588195800781\n",
      "Epoch: 1599, loss: 86.60304260253906\n",
      "Epoch: 1699, loss: 86.5533676147461\n",
      "Epoch: 1799, loss: 86.54254150390625\n",
      "Epoch: 1899, loss: 86.55669403076172\n",
      "Epoch: 1999, loss: 86.52251434326172\n",
      "Epoch: 2099, loss: 86.51280212402344\n",
      "Epoch: 2199, loss: 86.5136489868164\n",
      "Epoch: 2299, loss: 86.4947509765625\n",
      "Epoch: 2399, loss: 86.48601531982422\n",
      "Epoch: 2499, loss: 86.67350769042969\n",
      "Epoch: 2599, loss: 86.4695816040039\n",
      "Epoch: 2699, loss: 86.46167755126953\n",
      "Epoch: 2799, loss: 87.42657470703125\n",
      "Epoch: 2899, loss: 86.44659423828125\n",
      "Epoch: 2999, loss: 86.4393539428711\n",
      "Epoch: 3099, loss: 86.52424621582031\n",
      "Epoch: 3199, loss: 86.42554473876953\n",
      "Epoch: 3299, loss: 86.4189453125\n",
      "Epoch: 3399, loss: 86.41223907470703\n",
      "Epoch: 3499, loss: 86.40936279296875\n",
      "Epoch: 3599, loss: 86.4000473022461\n",
      "Epoch: 3699, loss: 86.39398956298828\n",
      "Epoch: 3799, loss: 87.00568389892578\n",
      "Epoch: 3899, loss: 86.38241577148438\n",
      "Epoch: 3999, loss: 86.37688446044922\n",
      "Epoch: 4099, loss: 86.3712387084961\n",
      "Epoch: 4199, loss: 86.36769104003906\n",
      "Epoch: 4299, loss: 86.36065673828125\n",
      "Epoch: 4399, loss: 86.35540771484375\n",
      "Epoch: 4499, loss: 86.47472381591797\n",
      "Epoch: 4599, loss: 86.34537506103516\n",
      "Epoch: 4699, loss: 86.34044647216797\n",
      "Epoch: 4799, loss: 86.76152801513672\n",
      "Epoch: 4899, loss: 86.33091735839844\n",
      "Epoch: 4999, loss: 86.3262939453125\n",
      "Epoch: 5099, loss: 86.35354614257812\n",
      "Epoch: 5199, loss: 86.31731414794922\n",
      "Epoch: 5299, loss: 86.31280517578125\n",
      "Epoch: 5399, loss: 86.35330963134766\n",
      "Epoch: 5499, loss: 86.30422973632812\n",
      "Epoch: 5599, loss: 86.30000305175781\n",
      "Epoch: 5699, loss: 86.29936981201172\n",
      "Epoch: 5799, loss: 86.29196166992188\n",
      "Epoch: 5899, loss: 86.28775024414062\n",
      "Epoch: 5999, loss: 86.28553771972656\n",
      "Epoch: 6099, loss: 86.27993774414062\n",
      "Epoch: 6199, loss: 86.27616119384766\n",
      "Epoch: 6299, loss: 86.27228546142578\n",
      "Epoch: 6399, loss: 86.28043365478516\n",
      "Epoch: 6499, loss: 86.26499938964844\n",
      "Epoch: 6599, loss: 86.2613296508789\n",
      "Epoch: 6699, loss: 86.29853820800781\n",
      "Epoch: 6799, loss: 86.25425720214844\n",
      "Epoch: 6899, loss: 86.25074005126953\n",
      "Epoch: 6999, loss: 86.59342193603516\n",
      "Epoch: 7099, loss: 86.24395751953125\n",
      "Epoch: 7199, loss: 86.2406005859375\n",
      "Epoch: 7299, loss: 88.4647216796875\n",
      "Epoch: 7399, loss: 86.23407745361328\n",
      "Epoch: 7499, loss: 86.23082733154297\n",
      "Epoch: 7599, loss: 86.23699188232422\n",
      "Epoch: 7699, loss: 86.22463989257812\n",
      "Epoch: 7799, loss: 86.22142028808594\n",
      "Epoch: 7899, loss: 86.21829223632812\n",
      "Epoch: 7999, loss: 86.2154312133789\n",
      "Epoch: 8099, loss: 86.21235656738281\n",
      "Epoch: 8199, loss: 86.20931243896484\n",
      "Epoch: 8299, loss: 86.21001434326172\n",
      "Epoch: 8399, loss: 86.20365142822266\n",
      "Epoch: 8499, loss: 86.20076751708984\n",
      "Epoch: 8599, loss: 86.31096649169922\n",
      "Epoch: 8699, loss: 86.19520568847656\n",
      "Epoch: 8799, loss: 86.19241333007812\n",
      "Epoch: 8899, loss: 86.30830383300781\n",
      "Epoch: 8999, loss: 86.18704986572266\n",
      "Epoch: 9099, loss: 86.18437194824219\n",
      "Epoch: 9199, loss: 86.25027465820312\n",
      "Epoch: 9299, loss: 86.17918395996094\n",
      "Epoch: 9399, loss: 86.17660522460938\n",
      "Epoch: 9499, loss: 86.73030090332031\n",
      "Epoch: 9599, loss: 86.17156982421875\n",
      "Epoch: 9699, loss: 86.16909790039062\n",
      "Epoch: 9799, loss: 87.22229766845703\n",
      "Epoch: 9899, loss: 86.16426849365234\n",
      "Epoch: 9999, loss: 86.16184997558594\n"
     ]
    }
   ],
   "source": [
    "epochs = 10000\n",
    "losses = []\n",
    "\n",
    "for epoch in range(epochs):\n",
    "    y_pred = model.forward(x_train)\n",
    "    loss = loss_func(y_pred, y_train)\n",
    "\n",
    "    losses.append(loss.detach())\n",
    "\n",
    "    if (epoch+1)%100 == 0:\n",
    "        print(f\"Epoch: {epoch}, loss: {loss}\")\n",
    "\n",
    "    optimizer.zero_grad()\n",
    "    loss.backward()\n",
    "    optimizer.step()"
   ]
  },
  {
   "cell_type": "code",
   "execution_count": 30,
   "id": "4c72cf6c",
   "metadata": {},
   "outputs": [
    {
     "data": {
      "text/plain": [
       "(torch.Size([405, 1]), torch.Size([405]))"
      ]
     },
     "execution_count": 30,
     "metadata": {},
     "output_type": "execute_result"
    }
   ],
   "source": [
    "y_pred.shape, y_train.shape"
   ]
  },
  {
   "cell_type": "code",
   "execution_count": 31,
   "id": "aa142a27",
   "metadata": {},
   "outputs": [
    {
     "name": "stdout",
     "output_type": "stream",
     "text": [
      "tensor(82.4376)\n",
      "y_eval: 22.97739601135254, y_test: 11.899999618530273, diff: 11.077396392822266.\n",
      "y_eval: 23.368511199951172, y_test: 27.899999618530273, diff: -4.531488418579102.\n",
      "y_eval: 23.337297439575195, y_test: 17.200000762939453, diff: 6.137296676635742.\n",
      "y_eval: 23.138832092285156, y_test: 27.5, diff: -4.361167907714844.\n",
      "y_eval: 21.23276710510254, y_test: 15.0, diff: 6.232767105102539.\n",
      "y_eval: 22.367185592651367, y_test: 17.200000762939453, diff: 5.167184829711914.\n",
      "y_eval: 21.538562774658203, y_test: 17.899999618530273, diff: 3.6385631561279297.\n",
      "y_eval: 22.32006072998047, y_test: 16.299999237060547, diff: 6.020061492919922.\n",
      "y_eval: 22.2961368560791, y_test: 7.0, diff: 15.296136856079102.\n",
      "y_eval: 22.92064094543457, y_test: 7.199999809265137, diff: 15.720641136169434.\n",
      "y_eval: 23.066577911376953, y_test: 7.5, diff: 15.566577911376953.\n",
      "y_eval: 22.706335067749023, y_test: 10.399999618530273, diff: 12.30633544921875.\n",
      "y_eval: 22.117475509643555, y_test: 8.800000190734863, diff: 13.317475318908691.\n",
      "y_eval: 23.420011520385742, y_test: 8.399999618530273, diff: 15.020011901855469.\n",
      "y_eval: 24.25821304321289, y_test: 16.700000762939453, diff: 7.5582122802734375.\n",
      "y_eval: 24.098159790039062, y_test: 14.199999809265137, diff: 9.898159980773926.\n",
      "y_eval: 23.11589813232422, y_test: 20.799999237060547, diff: 2.315898895263672.\n",
      "y_eval: 22.21748924255371, y_test: 13.399999618530273, diff: 8.817489624023438.\n",
      "y_eval: 21.64258575439453, y_test: 11.699999809265137, diff: 9.942585945129395.\n",
      "y_eval: 22.44797134399414, y_test: 8.300000190734863, diff: 14.147971153259277.\n",
      "y_eval: 21.87116050720215, y_test: 10.199999809265137, diff: 11.671160697937012.\n",
      "y_eval: 22.367252349853516, y_test: 10.899999618530273, diff: 11.467252731323242.\n",
      "y_eval: 23.084945678710938, y_test: 11.0, diff: 12.084945678710938.\n",
      "y_eval: 23.007204055786133, y_test: 9.5, diff: 13.507204055786133.\n",
      "y_eval: 22.422576904296875, y_test: 14.5, diff: 7.922576904296875.\n",
      "y_eval: 22.698867797851562, y_test: 14.100000381469727, diff: 8.598867416381836.\n",
      "y_eval: 22.46587562561035, y_test: 16.100000381469727, diff: 6.365875244140625.\n",
      "y_eval: 23.332096099853516, y_test: 14.300000190734863, diff: 9.032095909118652.\n",
      "y_eval: 23.10236358642578, y_test: 11.699999809265137, diff: 11.402363777160645.\n",
      "y_eval: 23.747148513793945, y_test: 13.399999618530273, diff: 10.347148895263672.\n",
      "y_eval: 23.0858154296875, y_test: 9.600000381469727, diff: 13.485815048217773.\n",
      "y_eval: 22.999921798706055, y_test: 8.699999809265137, diff: 14.299921989440918.\n",
      "y_eval: 23.405662536621094, y_test: 8.399999618530273, diff: 15.00566291809082.\n",
      "y_eval: 24.56924819946289, y_test: 12.800000190734863, diff: 11.769248008728027.\n",
      "y_eval: 24.57917022705078, y_test: 10.5, diff: 14.079170227050781.\n",
      "y_eval: 24.880521774291992, y_test: 17.100000381469727, diff: 7.780521392822266.\n",
      "y_eval: 24.75148582458496, y_test: 18.399999618530273, diff: 6.3514862060546875.\n",
      "y_eval: 24.886436462402344, y_test: 15.399999618530273, diff: 9.48643684387207.\n",
      "y_eval: 23.930601119995117, y_test: 10.800000190734863, diff: 13.130600929260254.\n",
      "y_eval: 23.32354736328125, y_test: 11.800000190734863, diff: 11.523547172546387.\n",
      "y_eval: 24.48570442199707, y_test: 14.899999618530273, diff: 9.585704803466797.\n",
      "y_eval: 24.750242233276367, y_test: 12.600000381469727, diff: 12.15024185180664.\n",
      "y_eval: 24.642427444458008, y_test: 14.100000381469727, diff: 10.542427062988281.\n",
      "y_eval: 24.341251373291016, y_test: 13.0, diff: 11.341251373291016.\n",
      "y_eval: 23.020837783813477, y_test: 13.399999618530273, diff: 9.620838165283203.\n",
      "y_eval: 24.719444274902344, y_test: 15.199999809265137, diff: 9.519444465637207.\n",
      "y_eval: 24.684959411621094, y_test: 16.100000381469727, diff: 8.584959030151367.\n",
      "y_eval: 25.198070526123047, y_test: 17.799999237060547, diff: 7.3980712890625.\n",
      "y_eval: 23.07978630065918, y_test: 14.899999618530273, diff: 8.179786682128906.\n",
      "y_eval: 23.213430404663086, y_test: 14.100000381469727, diff: 9.11343002319336.\n",
      "y_eval: 22.75149917602539, y_test: 12.699999809265137, diff: 10.051499366760254.\n",
      "y_eval: 22.682126998901367, y_test: 13.5, diff: 9.182126998901367.\n",
      "y_eval: 24.181385040283203, y_test: 14.899999618530273, diff: 9.28138542175293.\n",
      "y_eval: 24.629295349121094, y_test: 20.0, diff: 4.629295349121094.\n",
      "y_eval: 24.28598976135254, y_test: 16.399999618530273, diff: 7.885990142822266.\n",
      "y_eval: 24.74127769470215, y_test: 17.700000762939453, diff: 7.041276931762695.\n",
      "y_eval: 24.749086380004883, y_test: 19.5, diff: 5.249086380004883.\n",
      "y_eval: 24.73601722717285, y_test: 20.200000762939453, diff: 4.536016464233398.\n",
      "y_eval: 24.416675567626953, y_test: 21.399999618530273, diff: 3.0166759490966797.\n",
      "y_eval: 23.984390258789062, y_test: 19.899999618530273, diff: 4.084390640258789.\n",
      "y_eval: 22.461336135864258, y_test: 19.0, diff: 3.461336135864258.\n",
      "y_eval: 23.612018585205078, y_test: 19.100000381469727, diff: 4.512018203735352.\n",
      "y_eval: 23.735164642333984, y_test: 19.100000381469727, diff: 4.635164260864258.\n",
      "y_eval: 23.722412109375, y_test: 20.100000381469727, diff: 3.6224117279052734.\n",
      "y_eval: 23.98518943786621, y_test: 19.899999618530273, diff: 4.0851898193359375.\n",
      "y_eval: 23.625255584716797, y_test: 19.600000381469727, diff: 4.02525520324707.\n",
      "y_eval: 24.08285903930664, y_test: 23.200000762939453, diff: 0.8828582763671875.\n",
      "y_eval: 24.390098571777344, y_test: 29.799999237060547, diff: -5.409900665283203.\n",
      "y_eval: 23.282283782958984, y_test: 13.800000190734863, diff: 9.482283592224121.\n",
      "y_eval: 23.559946060180664, y_test: 13.300000190734863, diff: 10.2599458694458.\n",
      "y_eval: 24.274194717407227, y_test: 16.700000762939453, diff: 7.574193954467773.\n",
      "y_eval: 23.461698532104492, y_test: 12.0, diff: 11.461698532104492.\n",
      "y_eval: 23.954729080200195, y_test: 14.600000381469727, diff: 9.354728698730469.\n",
      "y_eval: 23.850297927856445, y_test: 21.399999618530273, diff: 2.450298309326172.\n",
      "y_eval: 23.719507217407227, y_test: 23.0, diff: 0.7195072174072266.\n",
      "y_eval: 23.8528995513916, y_test: 23.700000762939453, diff: 0.15289878845214844.\n",
      "y_eval: 24.019977569580078, y_test: 25.0, diff: -0.9800224304199219.\n",
      "y_eval: 23.630889892578125, y_test: 21.799999237060547, diff: 1.8308906555175781.\n",
      "y_eval: 23.900381088256836, y_test: 20.600000381469727, diff: 3.3003807067871094.\n",
      "y_eval: 24.15764617919922, y_test: 21.200000762939453, diff: 2.9576454162597656.\n",
      "y_eval: 24.004375457763672, y_test: 19.100000381469727, diff: 4.904375076293945.\n",
      "y_eval: 23.819534301757812, y_test: 20.600000381469727, diff: 3.219533920288086.\n",
      "y_eval: 24.410459518432617, y_test: 15.199999809265137, diff: 9.21045970916748.\n",
      "y_eval: 24.257343292236328, y_test: 7.0, diff: 17.257343292236328.\n",
      "y_eval: 24.111339569091797, y_test: 8.100000381469727, diff: 16.01133918762207.\n",
      "y_eval: 24.661836624145508, y_test: 13.600000381469727, diff: 11.061836242675781.\n",
      "y_eval: 24.666048049926758, y_test: 20.100000381469727, diff: 4.566047668457031.\n",
      "y_eval: 24.206844329833984, y_test: 21.799999237060547, diff: 2.4068450927734375.\n",
      "y_eval: 24.408306121826172, y_test: 24.5, diff: -0.09169387817382812.\n",
      "y_eval: 24.464603424072266, y_test: 23.100000381469727, diff: 1.364603042602539.\n",
      "y_eval: 24.258708953857422, y_test: 19.700000762939453, diff: 4.558708190917969.\n",
      "y_eval: 24.323184967041016, y_test: 18.299999237060547, diff: 6.023185729980469.\n",
      "y_eval: 24.364276885986328, y_test: 21.200000762939453, diff: 3.164276123046875.\n",
      "y_eval: 24.136411666870117, y_test: 17.5, diff: 6.636411666870117.\n",
      "y_eval: 24.36579704284668, y_test: 16.799999237060547, diff: 7.565797805786133.\n",
      "y_eval: 24.86293601989746, y_test: 22.399999618530273, diff: 2.4629364013671875.\n",
      "y_eval: 24.556480407714844, y_test: 20.600000381469727, diff: 3.956480026245117.\n",
      "y_eval: 24.869136810302734, y_test: 23.899999618530273, diff: 0.9691371917724609.\n",
      "y_eval: 24.81234359741211, y_test: 22.0, diff: 2.8123435974121094.\n",
      "y_eval: 24.493770599365234, y_test: 11.899999618530273, diff: 12.593770980834961.\n"
     ]
    }
   ],
   "source": [
    "with torch.no_grad():\n",
    "    y_eval = model.forward(x_test)\n",
    "    loss = loss_func(y_eval, y_test)\n",
    "    print(loss)\n",
    "    for i in range(len(y_eval)):\n",
    "        print(f\"y_eval: {y_eval[i].item()}, y_test: {y_test[i]}, diff: {y_eval[i].item() - y_test[i]}.\")"
   ]
  },
  {
   "cell_type": "code",
   "execution_count": 32,
   "id": "2724cd32",
   "metadata": {},
   "outputs": [
    {
     "data": {
      "text/plain": [
       "OrderedDict([('func.weight',\n",
       "              tensor([[-4.8281e-03,  5.8852e-04, -1.1987e-02,  6.7038e-03,  5.9556e+00,\n",
       "                        5.4932e-01, -3.6237e-03,  1.4828e-01, -4.4572e-02,  8.4486e-04,\n",
       "                        1.4910e-01,  4.9364e-03,  2.5546e-02]])),\n",
       "             ('func.bias', tensor([12.3557]))])"
      ]
     },
     "execution_count": 32,
     "metadata": {},
     "output_type": "execute_result"
    }
   ],
   "source": [
    "model.state_dict()"
   ]
  },
  {
   "cell_type": "code",
   "execution_count": 33,
   "id": "debe713b",
   "metadata": {},
   "outputs": [],
   "source": [
    "def ridge_loss(output, target, model, alpha):\n",
    "    mse_loss = nn.MSELoss()(output, target)\n",
    "    l2_reg = torch.tensor(0.)\n",
    "    for param in model.parameters():\n",
    "        l2_reg += torch.norm(param)\n",
    "    return mse_loss + alpha + l2_reg"
   ]
  },
  {
   "cell_type": "code",
   "execution_count": 34,
   "id": "8d3d454c",
   "metadata": {},
   "outputs": [],
   "source": [
    "def lasso_loss(output, target, model, alpha):\n",
    "    mse_loss = nn.MSELoss()(output, target)\n",
    "    l1_reg = torch.tensor(0.)\n",
    "    for param in model.parameters():\n",
    "        l1_reg += torch.sum(torch.abs(param))\n",
    "    return mse_loss + alpha + l1_reg"
   ]
  },
  {
   "cell_type": "code",
   "execution_count": 35,
   "id": "41e8ffed",
   "metadata": {},
   "outputs": [],
   "source": [
    "optimizer2 = torch.optim.SGD(model.parameters(), lr = 0.01)"
   ]
  },
  {
   "cell_type": "code",
   "execution_count": 36,
   "id": "f85ab604",
   "metadata": {},
   "outputs": [],
   "source": [
    "model_ridge = LinearRegressionModel()"
   ]
  },
  {
   "cell_type": "code",
   "execution_count": 37,
   "id": "154b5854",
   "metadata": {},
   "outputs": [
    {
     "name": "stdout",
     "output_type": "stream",
     "text": [
      "Epoch: 100, loss: 26169.431640625\n",
      "Epoch: 200, loss: 26169.431640625\n",
      "Epoch: 300, loss: 26169.431640625\n",
      "Epoch: 400, loss: 26169.431640625\n",
      "Epoch: 500, loss: 26169.431640625\n",
      "Epoch: 600, loss: 26169.431640625\n",
      "Epoch: 700, loss: 26169.431640625\n",
      "Epoch: 800, loss: 26169.431640625\n",
      "Epoch: 900, loss: 26169.431640625\n",
      "Epoch: 1000, loss: 26169.431640625\n"
     ]
    }
   ],
   "source": [
    "epochs = 1000\n",
    "for i in range(epochs):\n",
    "    y_pred_ridge = model_ridge.forward(x_train)\n",
    "\n",
    "    loss_ridge = ridge_loss(y_pred_ridge, y_train, model_ridge, 0.1)\n",
    "\n",
    "    if (i+1)%100 == 0:\n",
    "        print(f\"Epoch: {i+1}, loss: {loss_ridge}\")\n",
    "\n",
    "    optimizer.zero_grad()\n",
    "    loss_ridge.backward()\n",
    "    optimizer2.step()\n"
   ]
  },
  {
   "cell_type": "code",
   "execution_count": null,
   "id": "74af8760",
   "metadata": {},
   "outputs": [],
   "source": []
  },
  {
   "cell_type": "code",
   "execution_count": null,
   "id": "40b92773",
   "metadata": {},
   "outputs": [],
   "source": []
  }
 ],
 "metadata": {
  "kernelspec": {
   "display_name": "Python 3 (ipykernel)",
   "language": "python",
   "name": "python3"
  },
  "language_info": {
   "codemirror_mode": {
    "name": "ipython",
    "version": 3
   },
   "file_extension": ".py",
   "mimetype": "text/x-python",
   "name": "python",
   "nbconvert_exporter": "python",
   "pygments_lexer": "ipython3",
   "version": "3.11.9"
  }
 },
 "nbformat": 4,
 "nbformat_minor": 5
}
